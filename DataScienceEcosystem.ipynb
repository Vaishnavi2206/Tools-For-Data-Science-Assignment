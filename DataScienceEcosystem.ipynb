{
 "cells": [
  {
   "cell_type": "markdown",
   "id": "ca9ae0be-cc21-40dc-863c-a22739f3e020",
   "metadata": {},
   "source": [
    "<h1>Data Science Tools and Ecosystem</h1>"
   ]
  },
  {
   "cell_type": "markdown",
   "id": "3a81612d-1070-40f2-a8ee-df5c876d4bbf",
   "metadata": {},
   "source": [
    "<p>In this notebook, Data Science Tools and Ecosystem are summarized.</p>"
   ]
  },
  {
   "cell_type": "markdown",
   "id": "847b4241-ea9e-40e9-82f1-42672d32d459",
   "metadata": {},
   "source": [
    "<h2>Some of the popular languages that Data Scientists use are:</h2>\n",
    "<ol>\n",
    "    <li>Python</li>\n",
    "    <li>R</li>\n",
    "    <li>SQL</li>\n",
    "</ol>"
   ]
  },
  {
   "cell_type": "markdown",
   "id": "1ec7c1d2-0de9-41fd-8c62-2b31a0618915",
   "metadata": {},
   "source": [
    "<p>Some of the commonly used libraries used by Data Scientists include:</p>\n",
    "<ol>\n",
    "    <li>numpy</li>\n",
    "    <li>pandas</li>\n",
    "    <li>scikit-learn</li>\n",
    "</ol>"
   ]
  },
  {
   "cell_type": "markdown",
   "id": "e092ca6a-9597-47e5-9eac-394140476674",
   "metadata": {},
   "source": [
    "<table>\n",
    "    <tr>\n",
    "        <th>Data Science Tools</th>\n",
    "    </tr>\n",
    "    <tr>\n",
    "        <td>Jupyter Notebooks</td>\n",
    "    </tr>\n",
    "    <tr>\n",
    "        <td>RStudio</td>\n",
    "    </tr>\n",
    "    <tr>\n",
    "        <td>Apache Zeppelin</td>\n",
    "    </tr>\n",
    "    <!-- Add more rows as needed -->\n",
    "</table>"
   ]
  },
  {
   "cell_type": "markdown",
   "id": "d4224221-a75b-4f1d-8d4a-13721b6d57c6",
   "metadata": {},
   "source": [
    "<h3>Below are a few examples of evaluating arithmetic expressions in Python</h3>"
   ]
  },
  {
   "cell_type": "code",
   "execution_count": 2,
   "id": "f9248ce0-8b05-40b4-991d-19c8e8de25ae",
   "metadata": {},
   "outputs": [
    {
     "name": "stdout",
     "output_type": "stream",
     "text": [
      "17\n"
     ]
    }
   ],
   "source": [
    "#This a simple arithmetic expression to mutiply then add integers\n",
    "print((3*4)+5)"
   ]
  },
  {
   "cell_type": "code",
   "execution_count": 3,
   "id": "31a0b5e4-1e08-4281-a1ad-c1ba0de5918d",
   "metadata": {},
   "outputs": [
    {
     "name": "stdout",
     "output_type": "stream",
     "text": [
      "33.333333333333336\n"
     ]
    }
   ],
   "source": [
    "#This will convert 200 minutes to hours by diving by 60\n",
    "print(200/6)"
   ]
  },
  {
   "cell_type": "markdown",
   "id": "60b3d4bd-50a9-4f96-b6b3-45b0c0918b31",
   "metadata": {},
   "source": [
    "<p>Objectives:</p>\n",
    "<ul>\n",
    "    <li>List popular languages for Data Science</li>\n",
    "    <li>Some of the commonly used libraries used by Data Scientist</li>\n",
    "    <li>arithmetic expressions in Python</li>\n",
    "</ul>"
   ]
  },
  {
   "cell_type": "markdown",
   "id": "eb19d392-51b4-419c-aff6-1167c01c4cf5",
   "metadata": {},
   "source": [
    "<h1>Author</h1>\n",
    "<p>Vaishnavi Rawool</p>"
   ]
  },
  {
   "cell_type": "code",
   "execution_count": null,
   "id": "8ffc11fe-4de8-467b-a195-058cc75d6b4b",
   "metadata": {},
   "outputs": [],
   "source": []
  }
 ],
 "metadata": {
  "kernelspec": {
   "display_name": "Python 3 (ipykernel)",
   "language": "python",
   "name": "python3"
  },
  "language_info": {
   "codemirror_mode": {
    "name": "ipython",
    "version": 3
   },
   "file_extension": ".py",
   "mimetype": "text/x-python",
   "name": "python",
   "nbconvert_exporter": "python",
   "pygments_lexer": "ipython3",
   "version": "3.11.7"
  }
 },
 "nbformat": 4,
 "nbformat_minor": 5
}
